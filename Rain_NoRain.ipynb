{
  "cells": [
    {
      "metadata": {},
      "cell_type": "markdown",
      "source": "# Learning by doing: Va a llover o no va a llover? \n\nPaso a paso el analisis completo para predecir si un dia va a llover o no. \n"
    },
    {
      "metadata": {
        "trusted": true
      },
      "cell_type": "code",
      "source": "weather <- read.csv(\"https://raw.githubusercontent.com/frm1789/Weather_2019/master/weather_2014.csv\",sep=\";\",stringsAsFactors=FALSE)",
      "execution_count": 33,
      "outputs": []
    },
    {
      "metadata": {},
      "cell_type": "markdown",
      "source": "## Seccion A) Formateo de datos\n"
    },
    {
      "metadata": {
        "trusted": true
      },
      "cell_type": "code",
      "source": "dim(weather)",
      "execution_count": 34,
      "outputs": [
        {
          "output_type": "display_data",
          "data": {
            "text/plain": "[1] 365  14",
            "text/latex": "\\begin{enumerate*}\n\\item 365\n\\item 14\n\\end{enumerate*}\n",
            "text/markdown": "1. 365\n2. 14\n\n\n",
            "text/html": "<ol class=list-inline>\n\t<li>365</li>\n\t<li>14</li>\n</ol>\n"
          },
          "metadata": {}
        }
      ]
    },
    {
      "metadata": {
        "trusted": true
      },
      "cell_type": "code",
      "source": "head(weather)",
      "execution_count": 35,
      "outputs": [
        {
          "output_type": "display_data",
          "data": {
            "text/plain": "  day.count day month season l.temp h.temp ave.temp l.temp.time h.temp.time\n1 1         1   1     Winter 12.7   14.0   13.4     01:25       23:50      \n2 2         2   1     Winter 11.3   14.7   13.5     07:30       11:15      \n3 3         3   1     Winter 12.6   14.7   13.6     21:00       14:00      \n4 4         4   1     Winter  7.7   13.9   11.3     10:35       01:50      \n5 5         5   1     Winter  8.8   14.6   13.0     01:40       12:55      \n6 6         6   1     Winter 11.8   14.4   13.1     19:35       00:05      \n  rain ave.wind gust.wind gust.wind.time dir.wind\n1 32.0 11.4     53.1      15:45          S       \n2 64.8  5.6     41.8      22:25          S       \n3 12.7  4.3     38.6      00:00          SSW     \n4 20.1 10.3     66.0      09:05          SW      \n5  9.4 11.6     51.5      13:50          SSE     \n6 38.9  9.9     57.9      08:10          SSE     ",
            "text/latex": "\\begin{tabular}{r|llllllllllllll}\n day.count & day & month & season & l.temp & h.temp & ave.temp & l.temp.time & h.temp.time & rain & ave.wind & gust.wind & gust.wind.time & dir.wind\\\\\n\\hline\n\t 1      & 1      & 1      & Winter & 12.7   & 14.0   & 13.4   & 01:25  & 23:50  & 32.0   & 11.4   & 53.1   & 15:45  & S     \\\\\n\t 2      & 2      & 1      & Winter & 11.3   & 14.7   & 13.5   & 07:30  & 11:15  & 64.8   &  5.6   & 41.8   & 22:25  & S     \\\\\n\t 3      & 3      & 1      & Winter & 12.6   & 14.7   & 13.6   & 21:00  & 14:00  & 12.7   &  4.3   & 38.6   & 00:00  & SSW   \\\\\n\t 4      & 4      & 1      & Winter &  7.7   & 13.9   & 11.3   & 10:35  & 01:50  & 20.1   & 10.3   & 66.0   & 09:05  & SW    \\\\\n\t 5      & 5      & 1      & Winter &  8.8   & 14.6   & 13.0   & 01:40  & 12:55  &  9.4   & 11.6   & 51.5   & 13:50  & SSE   \\\\\n\t 6      & 6      & 1      & Winter & 11.8   & 14.4   & 13.1   & 19:35  & 00:05  & 38.9   &  9.9   & 57.9   & 08:10  & SSE   \\\\\n\\end{tabular}\n",
            "text/markdown": "\n| day.count | day | month | season | l.temp | h.temp | ave.temp | l.temp.time | h.temp.time | rain | ave.wind | gust.wind | gust.wind.time | dir.wind |\n|---|---|---|---|---|---|---|---|---|---|---|---|---|---|\n| 1      | 1      | 1      | Winter | 12.7   | 14.0   | 13.4   | 01:25  | 23:50  | 32.0   | 11.4   | 53.1   | 15:45  | S      |\n| 2      | 2      | 1      | Winter | 11.3   | 14.7   | 13.5   | 07:30  | 11:15  | 64.8   |  5.6   | 41.8   | 22:25  | S      |\n| 3      | 3      | 1      | Winter | 12.6   | 14.7   | 13.6   | 21:00  | 14:00  | 12.7   |  4.3   | 38.6   | 00:00  | SSW    |\n| 4      | 4      | 1      | Winter |  7.7   | 13.9   | 11.3   | 10:35  | 01:50  | 20.1   | 10.3   | 66.0   | 09:05  | SW     |\n| 5      | 5      | 1      | Winter |  8.8   | 14.6   | 13.0   | 01:40  | 12:55  |  9.4   | 11.6   | 51.5   | 13:50  | SSE    |\n| 6      | 6      | 1      | Winter | 11.8   | 14.4   | 13.1   | 19:35  | 00:05  | 38.9   |  9.9   | 57.9   | 08:10  | SSE    |\n\n",
            "text/html": "<table>\n<thead><tr><th scope=col>day.count</th><th scope=col>day</th><th scope=col>month</th><th scope=col>season</th><th scope=col>l.temp</th><th scope=col>h.temp</th><th scope=col>ave.temp</th><th scope=col>l.temp.time</th><th scope=col>h.temp.time</th><th scope=col>rain</th><th scope=col>ave.wind</th><th scope=col>gust.wind</th><th scope=col>gust.wind.time</th><th scope=col>dir.wind</th></tr></thead>\n<tbody>\n\t<tr><td>1     </td><td>1     </td><td>1     </td><td>Winter</td><td>12.7  </td><td>14.0  </td><td>13.4  </td><td>01:25 </td><td>23:50 </td><td>32.0  </td><td>11.4  </td><td>53.1  </td><td>15:45 </td><td>S     </td></tr>\n\t<tr><td>2     </td><td>2     </td><td>1     </td><td>Winter</td><td>11.3  </td><td>14.7  </td><td>13.5  </td><td>07:30 </td><td>11:15 </td><td>64.8  </td><td> 5.6  </td><td>41.8  </td><td>22:25 </td><td>S     </td></tr>\n\t<tr><td>3     </td><td>3     </td><td>1     </td><td>Winter</td><td>12.6  </td><td>14.7  </td><td>13.6  </td><td>21:00 </td><td>14:00 </td><td>12.7  </td><td> 4.3  </td><td>38.6  </td><td>00:00 </td><td>SSW   </td></tr>\n\t<tr><td>4     </td><td>4     </td><td>1     </td><td>Winter</td><td> 7.7  </td><td>13.9  </td><td>11.3  </td><td>10:35 </td><td>01:50 </td><td>20.1  </td><td>10.3  </td><td>66.0  </td><td>09:05 </td><td>SW    </td></tr>\n\t<tr><td>5     </td><td>5     </td><td>1     </td><td>Winter</td><td> 8.8  </td><td>14.6  </td><td>13.0  </td><td>01:40 </td><td>12:55 </td><td> 9.4  </td><td>11.6  </td><td>51.5  </td><td>13:50 </td><td>SSE   </td></tr>\n\t<tr><td>6     </td><td>6     </td><td>1     </td><td>Winter</td><td>11.8  </td><td>14.4  </td><td>13.1  </td><td>19:35 </td><td>00:05 </td><td>38.9  </td><td> 9.9  </td><td>57.9  </td><td>08:10 </td><td>SSE   </td></tr>\n</tbody>\n</table>\n"
          },
          "metadata": {}
        }
      ]
    },
    {
      "metadata": {
        "trusted": true
      },
      "cell_type": "code",
      "source": "class(weather$season)",
      "execution_count": 36,
      "outputs": [
        {
          "output_type": "display_data",
          "data": {
            "text/plain": "[1] \"character\"",
            "text/latex": "'character'",
            "text/markdown": "'character'",
            "text/html": "'character'"
          },
          "metadata": {}
        }
      ]
    },
    {
      "metadata": {
        "trusted": true
      },
      "cell_type": "code",
      "source": "summary(weather$season)",
      "execution_count": 37,
      "outputs": [
        {
          "output_type": "display_data",
          "data": {
            "text/plain": "   Length     Class      Mode \n      365 character character "
          },
          "metadata": {}
        }
      ]
    },
    {
      "metadata": {
        "trusted": true
      },
      "cell_type": "code",
      "source": "weather$season <- factor(weather$season,\n                         levels = c(\"Spring\",\"Summer\",\"Autumn\",\"Winter\"))",
      "execution_count": 38,
      "outputs": []
    },
    {
      "metadata": {
        "trusted": true
      },
      "cell_type": "code",
      "source": "class(weather$season)",
      "execution_count": 39,
      "outputs": [
        {
          "output_type": "display_data",
          "data": {
            "text/plain": "[1] \"factor\"",
            "text/latex": "'factor'",
            "text/markdown": "'factor'",
            "text/html": "'factor'"
          },
          "metadata": {}
        }
      ]
    },
    {
      "metadata": {
        "trusted": true
      },
      "cell_type": "code",
      "source": "summary(weather$season)\n",
      "execution_count": 40,
      "outputs": [
        {
          "output_type": "display_data",
          "data": {
            "text/plain": "Spring Summer Autumn Winter \n    92     92     91     90 ",
            "text/latex": "\\begin{description*}\n\\item[Spring] 92\n\\item[Summer] 92\n\\item[Autumn] 91\n\\item[Winter] 90\n\\end{description*}\n",
            "text/markdown": "Spring\n:   92Summer\n:   92Autumn\n:   91Winter\n:   90\n\n",
            "text/html": "<dl class=dl-horizontal>\n\t<dt>Spring</dt>\n\t\t<dd>92</dd>\n\t<dt>Summer</dt>\n\t\t<dd>92</dd>\n\t<dt>Autumn</dt>\n\t\t<dd>91</dd>\n\t<dt>Winter</dt>\n\t\t<dd>90</dd>\n</dl>\n"
          },
          "metadata": {}
        }
      ]
    },
    {
      "metadata": {
        "trusted": true
      },
      "cell_type": "code",
      "source": "weather$day <- as.factor(weather$day)\nweather$month <- as.factor(weather$month)\nweather$dir.wind <- as.factor(weather$dir.wind)",
      "execution_count": 41,
      "outputs": []
    },
    {
      "metadata": {
        "trusted": true
      },
      "cell_type": "code",
      "source": "rel <- round(prop.table(table(weather$dir.wind))*100,1)",
      "execution_count": 42,
      "outputs": []
    },
    {
      "metadata": {
        "trusted": true
      },
      "cell_type": "code",
      "source": "rel",
      "execution_count": 43,
      "outputs": [
        {
          "output_type": "display_data",
          "data": {
            "text/plain": "\n   E  ENE  ESE    N   NE  NNE  NNW   NW    S   SE  SSE  SSW   SW    W  WNW  WSW \n 3.0  4.1  0.5  4.9  6.8  2.2 10.1 29.6  7.1  6.6  8.5  4.7  3.0  1.4  6.6  0.8 "
          },
          "metadata": {}
        }
      ]
    },
    {
      "metadata": {
        "trusted": true
      },
      "cell_type": "code",
      "source": "weather$dir.wind.8 <- weather$dir.wind \nweather$dir.wind.8 <- ifelse(weather$dir.wind %in%  c(\"NNE\",\"ENE\"),\"NE\",as.character(weather$dir.wind.8)) \nweather$dir.wind.8 <- ifelse(weather$dir.wind %in% c(\"NNW\",\"WNW\"),\"NW\",as.character(weather$dir.wind.8)) \nweather$dir.wind.8 <- ifelse(weather$dir.wind %in% c(\"WSW\",\"SSW\"),\"SW\",as.character(weather$dir.wind.8)) \nweather$dir.wind.8 <- ifelse(weather$dir.wind %in% c(\"ESE\",\"SSE\"), \"SE\",as.character(weather$dir.wind.8)) \nweather$dir.wind.8 <- factor(weather$dir.wind.8,levels = c(\"N\",\"NE\",\"E\",\"SE\",\"S\",\"SW\",\"W\",\"NW\"))",
      "execution_count": 44,
      "outputs": []
    },
    {
      "metadata": {
        "trusted": true
      },
      "cell_type": "code",
      "source": "round(prop.table(table(weather$dir.wind.8,weather$season),margin = 2)*100,1)",
      "execution_count": 45,
      "outputs": [
        {
          "output_type": "display_data",
          "data": {
            "text/plain": "    \n     Spring Summer Autumn Winter\n  N     1.1    3.3   12.1    3.3\n  NE   14.1    5.4   20.9   12.2\n  E     0.0    0.0    5.5    6.7\n  SE   13.0   14.1   20.9   14.4\n  S     5.4   12.0    4.4    6.7\n  SW    6.5    8.7    2.2   16.7\n  W     2.2    0.0    1.1    2.2\n  NW   57.6   56.5   33.0   37.8"
          },
          "metadata": {}
        }
      ]
    },
    {
      "metadata": {
        "trusted": true
      },
      "cell_type": "code",
      "source": "first.day <- as.Date(\"2014-01-01\")\nclass(first.day)",
      "execution_count": 46,
      "outputs": [
        {
          "output_type": "display_data",
          "data": {
            "text/plain": "[1] \"Date\"",
            "text/latex": "'Date'",
            "text/markdown": "'Date'",
            "text/html": "'Date'"
          },
          "metadata": {}
        }
      ]
    },
    {
      "metadata": {
        "trusted": true
      },
      "cell_type": "code",
      "source": "weather$date  <- first.day + weather$day.count - 1 ",
      "execution_count": 47,
      "outputs": []
    },
    {
      "metadata": {},
      "cell_type": "markdown",
      "source": "# B) Prediccion de la cantidad de lluvia diaria usando multiple linear regression\nCreating a model from inferential statistics using multiple linear regression"
    },
    {
      "metadata": {},
      "cell_type": "markdown",
      "source": "## B.1) Training and test datasets "
    },
    {
      "metadata": {
        "trusted": true
      },
      "cell_type": "code",
      "source": "set.seed(123) ",
      "execution_count": 48,
      "outputs": []
    },
    {
      "metadata": {
        "trusted": true,
        "scrolled": true
      },
      "cell_type": "code",
      "source": "# randomly pick 70% of the number of observations (365)\nindex <- sample(1:nrow(weather),size = 0.7*nrow(weather)) \n \n# subset weather to include only the elements in the index\ntrain <- weather[index,] \n \n# subset weather to include all but the elements in the index\ntest <- weather [-index,] ",
      "execution_count": 49,
      "outputs": []
    },
    {
      "metadata": {
        "trusted": true,
        "scrolled": true
      },
      "cell_type": "code",
      "source": "nrow(train)\nnrow(test)",
      "execution_count": 50,
      "outputs": [
        {
          "output_type": "display_data",
          "data": {
            "text/plain": "[1] 255",
            "text/latex": "255",
            "text/markdown": "255",
            "text/html": "255"
          },
          "metadata": {}
        },
        {
          "output_type": "display_data",
          "data": {
            "text/plain": "[1] 110",
            "text/latex": "110",
            "text/markdown": "110",
            "text/html": "110"
          },
          "metadata": {}
        }
      ]
    },
    {
      "metadata": {},
      "cell_type": "markdown",
      "source": "## Teoria: Metricas de error\n\n### RMSE \nLa métrica de error principal que utilizaremos para evaluar nuestros modelos es el RMSE (error de la raíz cuadrada media). \nEsta medida de error otorga más importancia a los residuos más grandes que a los más pequeños (un residuo es la diferencia entre el valor previsto y el observado). \nSignifica es que consideramos que omitir la predicción de la cantidad de lluvia en 20 mm, en un día determinado, no solo es el doble de malo que faltar en 10 mm, sino que es peor que eso.\n\n### MAE\nEl MAE (error absoluto medio) sera la métrica de error secundaria. Da igual peso a los residuos, lo que significa que 20 mm es en realidad el doble de malo que 10 mm. Una de las ventajas de esta medida de error es que es fácil de interpretar: nos dice, en promedio, la magnitud del error que obtenemos al usar el modelo en comparación con los valores reales observados.\n\n### RMSE & MAE\nAmbas métricas son válidas, aunque el RMSE parece ser más popular, posiblemente porque amplía las diferencias entre los rendimientos de los modelos en situaciones en las que el MAE podría llevarnos a creer que eran casi iguales. \n\nLink: https://www.geosci-model-dev.net/7/1247/2014/gmd-7-1247-2014.pdf\n\nLink II: stackoverflow"
    },
    {
      "metadata": {},
      "cell_type": "markdown",
      "source": "## B.2) Set the baseline\n\nWhat would be our best guess if we had to predict the amount of rain?\nEl promedio de todas las lluvias."
    },
    {
      "metadata": {
        "trusted": true
      },
      "cell_type": "code",
      "source": "best.guess <- mean(train$rain) \nbest.guess",
      "execution_count": 51,
      "outputs": [
        {
          "output_type": "display_data",
          "data": {
            "text/plain": "[1] 5.315294",
            "text/latex": "5.31529411764706",
            "text/markdown": "5.31529411764706",
            "text/html": "5.31529411764706"
          },
          "metadata": {}
        }
      ]
    },
    {
      "metadata": {
        "trusted": true
      },
      "cell_type": "code",
      "source": "# Evaluate RMSE and MAE on the testing data\nRMSE.baseline <- sqrt(mean((best.guess-test$rain)^2))\nRMSE.baseline",
      "execution_count": 52,
      "outputs": [
        {
          "output_type": "display_data",
          "data": {
            "text/plain": "[1] 13.38996",
            "text/latex": "13.3899553184001",
            "text/markdown": "13.3899553184001",
            "text/html": "13.3899553184001"
          },
          "metadata": {}
        }
      ]
    },
    {
      "metadata": {
        "trusted": true
      },
      "cell_type": "code",
      "source": "MAE.baseline <- mean(abs(best.guess-test$rain))\nMAE.baseline",
      "execution_count": 53,
      "outputs": [
        {
          "output_type": "display_data",
          "data": {
            "text/plain": "[1] 8.219123",
            "text/latex": "8.21912299465241",
            "text/markdown": "8.21912299465241",
            "text/html": "8.21912299465241"
          },
          "metadata": {}
        }
      ]
    },
    {
      "metadata": {},
      "cell_type": "markdown",
      "source": "## Teoria: Multiple linear regression\n\nLos modelos lineales no requieren que las variables tengan una distribución gaussiana (solo los errores / residuales deben distribuirse normalmente); Sin embargo, sí requieren una relación lineal entre las variables dependientes e independientes.\n\nPor esta razón de linealidad, y también para ayudar a solucionar el problema con los residuos que tienen una varianza no constante en el rango de predicciones (denominada heterocedasticidad), realizaremos la transformación de registro habitual en la variable dependiente. Como tenemos ceros (días sin lluvia), no podemos hacer una transformación simple de ln (x), pero sí podemos hacer ln (x + 1), donde x es la cantidad de lluvia. "
    },
    {
      "metadata": {},
      "cell_type": "markdown",
      "source": "# #EsPregunta\n\nA) realmente se hacen estas preguntas en general? Tipo voy a verificar que mis variables tengan una distribucion gaussiana? Y de ser asi como lo verifican?\n\nb) \"Por esta razón de linealidad, y también para ayudar a solucionar el problema con los residuos que tienen una varianza no constante en el rango de predicciones (denominada heterocedasticidad), realizaremos la transformación de registro habitual en la variable dependiente. Como tenemos ceros (días sin lluvia), no podemos hacer una transformación simple de ln (x), pero sí podemos hacer ln (x + 1), donde x es la cantidad de lluvia\"\n\nPregunta:\nSolo puedo decir que tengo dias sin lluvia, por eso dice que tiene una varianza no constante? Porque algunos de sus datos van a cero?\n\nc) ¿Por qué elige aplicar una función logarítmica? Porque usa log-linear?\n"
    },
    {
      "metadata": {},
      "cell_type": "markdown",
      "source": "## Teoria: Como funciona el proceso de eliminacion de variables predictoras?\n\nComencé con todas las variables como predictores potenciales y luego eliminé del modelo, una por una, aquellas que no eran estadísticamente significativas (p <0,05). Se eliminan de a uno por uno debido a la multicolinealidad (es decir, la correlación entre variables independientes). \n\nAlgunas de las variables en nuestros datos están altamente correlacionadas (por ejemplo, la temperatura mínima, promedio y máxima en un día determinado), lo que significa que a veces cuando eliminamos una variable no significativa del modelo, otra que anteriormente no era -significante se vuelve estadísticamente significativo.\n\nEste proceso iterativo de eliminación hacia atrás se detiene cuando todas las variables en el modelo son significativas (en el caso de factores, aquí consideramos que al menos un nivel debe ser significativo);"
    },
    {
      "metadata": {},
      "cell_type": "markdown",
      "source": "## B.3) Create multiple (log)linear regression model using the training data"
    },
    {
      "metadata": {
        "trusted": true
      },
      "cell_type": "code",
      "source": "lin.reg <- lm(log(rain+1) ~ season +  h.temp + ave.temp + ave.wind + gust.wind +\n              dir.wind, data = train)",
      "execution_count": 62,
      "outputs": []
    },
    {
      "metadata": {
        "trusted": true
      },
      "cell_type": "code",
      "source": "summary(lin.reg)",
      "execution_count": 55,
      "outputs": [
        {
          "output_type": "display_data",
          "data": {
            "text/plain": "\nCall:\nlm(formula = log(rain + 1) ~ season + h.temp + ave.temp + ave.wind + \n    gust.wind + dir.wind, data = train)\n\nResiduals:\n     Min       1Q   Median       3Q      Max \n-1.87548 -0.50485 -0.01998  0.41785  2.24267 \n\nCoefficients:\n              Estimate Std. Error t value Pr(>|t|)    \n(Intercept)  -0.278598   0.430907  -0.647 0.518570    \nseasonSummer  0.398979   0.153002   2.608 0.009707 ** \nseasonAutumn  0.732204   0.153985   4.755 3.49e-06 ***\nseasonWinter  0.319533   0.160923   1.986 0.048253 *  \nh.temp       -0.199797   0.046376  -4.308 2.43e-05 ***\nave.temp      0.164593   0.055452   2.968 0.003309 ** \nave.wind     -0.119636   0.041364  -2.892 0.004188 ** \ngust.wind     0.065260   0.008599   7.589 7.79e-13 ***\ndir.windENE   0.232046   0.343492   0.676 0.499999    \ndir.windESE   0.343658   0.804671   0.427 0.669718    \ndir.windN     0.320433   0.334591   0.958 0.339218    \ndir.windNE    0.374025   0.342513   1.092 0.275965    \ndir.windNNE   1.752912   0.512710   3.419 0.000743 ***\ndir.windNNW   0.273732   0.308984   0.886 0.376584    \ndir.windNW    0.234183   0.289892   0.808 0.420016    \ndir.windS     0.964692   0.335161   2.878 0.004372 ** \ndir.windSE    1.108726   0.326710   3.394 0.000811 ***\ndir.windSSE   1.441930   0.333924   4.318 2.33e-05 ***\ndir.windSSW   1.303374   0.352931   3.693 0.000276 ***\ndir.windSW    0.799705   0.387626   2.063 0.040217 *  \ndir.windW     0.543376   0.468968   1.159 0.247785    \ndir.windWNW   0.524083   0.342623   1.530 0.127473    \ndir.windWSW   1.152305   0.805978   1.430 0.154149    \n---\nSignif. codes:  0 ‘***’ 0.001 ‘**’ 0.01 ‘*’ 0.05 ‘.’ 0.1 ‘ ’ 1\n\nResidual standard error: 0.7484 on 232 degrees of freedom\nMultiple R-squared:  0.6554,\tAdjusted R-squared:  0.6228 \nF-statistic: 20.06 on 22 and 232 DF,  p-value: < 2.2e-16\n"
          },
          "metadata": {}
        }
      ]
    },
    {
      "metadata": {
        "trusted": true
      },
      "cell_type": "code",
      "source": "exp(lin.reg$coefficients[\"gust.wind\"])",
      "execution_count": 56,
      "outputs": [
        {
          "output_type": "display_data",
          "data": {
            "text/plain": "gust.wind \n 1.067436 ",
            "text/latex": "\\textbf{gust.wind:} 1.06743617547348",
            "text/markdown": "**gust.wind:** 1.06743617547348",
            "text/html": "<strong>gust.wind:</strong> 1.06743617547348"
          },
          "metadata": {}
        }
      ]
    },
    {
      "metadata": {
        "trusted": true
      },
      "cell_type": "code",
      "source": "test.pred.lin <- exp(predict(lin.reg,test))-1\ntest.pred.lin",
      "execution_count": 57,
      "outputs": [
        {
          "output_type": "display_data",
          "data": {
            "text/plain": "           2            4            5            6            7           10 \n 9.469867638 19.050322506 13.565093442 27.676818064  7.534265142  0.774383777 \n          11           12           13           14           18           19 \n-0.057603629 12.505307483  3.981839540  5.368455579  1.782855939  2.114125097 \n          21           23           25           28           31           33 \n 5.209238556  0.676561068  1.104984622 21.243885199 13.143730206 17.473719510 \n          42           43           55           57           60           62 \n 4.264009261 10.652915149 11.054638827 10.079900072 18.999942224  9.998245209 \n          63           66           74           81           89           91 \n 5.003656092 -0.386577873 -0.328397070  3.160521119  5.711313927  8.877237243 \n          95           97          104          112          113          116 \n 2.571543923  0.949084328  0.599261017  3.010655700  1.006171138  1.151044670 \n         124          126          133          136          140          142 \n-0.299835831 -0.101896607 -0.291442430  2.012721992  8.796858473  1.974746462 \n         143          147          150          153          154          155 \n 0.799142074  0.135327852  1.039039020  0.079769007  0.359690914  0.571065843 \n         165          168          170          173          178          182 \n-0.578089880  0.092674614 -0.189656032  2.658670068  0.864964523  1.137128573 \n         186          188          191          192          194          195 \n 3.065783286  2.298572754  0.030797589  6.664728395  0.130869721 -0.075480217 \n         198          199          206          207          215          217 \n 1.472217581  4.862355318 -0.221363907  2.255453253  2.741388144  0.662197565 \n         218          221          227          229          230          234 \n 0.714190260  3.569963849  0.458194045 -0.361577500  2.676131657  0.221869914 \n         235          244          247          252          253          254 \n 0.145156790 -0.369650030  0.302935033 -0.149071584  0.870957357  5.648016803 \n         261          262          264          269          273          278 \n15.657794936  8.071390756 24.798725688  0.263314610  0.255937568  1.291055273 \n         280          281          283          285          286          289 \n 6.267079080 10.473560650  0.262935412  0.930929372 27.989866938 33.027093943 \n         290          292          294          296          297          303 \n17.053807749 -0.161188398 -0.472470389 -0.100471238 -0.184383861  0.589485508 \n         305          318          325          335          336          338 \n 1.704554530 28.845504646  0.314865953  2.682228470  1.054944960  2.348547776 \n         342          343          346          349          350          352 \n 0.870247642  1.679075917 17.115676231  2.143495813  1.939689005  7.549953315 \n         355          357 \n 0.006572807  0.612155261 ",
            "text/latex": "\\begin{description*}\n\\item[2] 9.46986763793044\n\\item[4] 19.0503225061167\n\\item[5] 13.5650934418129\n\\item[6] 27.676818063911\n\\item[7] 7.5342651415351\n\\item[10] 0.774383777404268\n\\item[11] -0.0576036291462868\n\\item[12] 12.5053074825455\n\\item[13] 3.98183954042785\n\\item[14] 5.36845557866019\n\\item[18] 1.78285593856064\n\\item[19] 2.11412509678407\n\\item[21] 5.20923855634993\n\\item[23] 0.676561067750669\n\\item[25] 1.10498462226878\n\\item[28] 21.2438851989509\n\\item[31] 13.1437302057877\n\\item[33] 17.4737195102517\n\\item[42] 4.26400926134436\n\\item[43] 10.6529151490818\n\\item[55] 11.0546388267617\n\\item[57] 10.079900071945\n\\item[60] 18.9999422240669\n\\item[62] 9.99824520914517\n\\item[63] 5.00365609154334\n\\item[66] -0.386577873381132\n\\item[74] -0.328397070395546\n\\item[81] 3.16052111888142\n\\item[89] 5.71131392708429\n\\item[91] 8.87723724251392\n\\item[95] 2.57154392284191\n\\item[97] 0.949084328454705\n\\item[104] 0.599261016573434\n\\item[112] 3.01065569994533\n\\item[113] 1.00617113769711\n\\item[116] 1.15104467009334\n\\item[124] -0.299835831084803\n\\item[126] -0.101896607315887\n\\item[133] -0.291442429921245\n\\item[136] 2.01272199243461\n\\item[140] 8.79685847312134\n\\item[142] 1.97474646169253\n\\item[143] 0.799142073585961\n\\item[147] 0.135327851672831\n\\item[150] 1.03903901978495\n\\item[153] 0.0797690066412251\n\\item[154] 0.359690914222697\n\\item[155] 0.571065842603557\n\\item[165] -0.57808988023228\n\\item[168] 0.0926746140655785\n\\item[170] -0.189656031810701\n\\item[173] 2.65867006805923\n\\item[178] 0.864964523217541\n\\item[182] 1.13712857276701\n\\item[186] 3.06578328647773\n\\item[188] 2.2985727536285\n\\item[191] 0.0307975891896044\n\\item[192] 6.66472839528309\n\\item[194] 0.130869720869329\n\\item[195] -0.0754802172622012\n\\item[198] 1.47221758111967\n\\item[199] 4.86235531783392\n\\item[206] -0.221363906825584\n\\item[207] 2.25545325289415\n\\item[215] 2.74138814422259\n\\item[217] 0.662197565378664\n\\item[218] 0.714190259967371\n\\item[221] 3.56996384932538\n\\item[227] 0.458194045119587\n\\item[229] -0.361577500332872\n\\item[230] 2.67613165671538\n\\item[234] 0.221869914455476\n\\item[235] 0.145156789847371\n\\item[244] -0.369650029923979\n\\item[247] 0.30293503274163\n\\item[252] -0.14907158364398\n\\item[253] 0.870957357416694\n\\item[254] 5.64801680252942\n\\item[261] 15.6577949357037\n\\item[262] 8.07139075565304\n\\item[264] 24.7987256883293\n\\item[269] 0.26331461048164\n\\item[273] 0.255937567890385\n\\item[278] 1.2910552725512\n\\item[280] 6.26707908006016\n\\item[281] 10.473560649894\n\\item[283] 0.262935412215049\n\\item[285] 0.93092937183553\n\\item[286] 27.9898669382315\n\\item[289] 33.0270939431018\n\\item[290] 17.0538077486596\n\\item[292] -0.161188397741313\n\\item[294] -0.472470389426069\n\\item[296] -0.100471237894807\n\\item[297] -0.184383861145289\n\\item[303] 0.589485507619201\n\\item[305] 1.70455452976141\n\\item[318] 28.8455046457732\n\\item[325] 0.31486595316138\n\\item[335] 2.68222847007881\n\\item[336] 1.05494495955359\n\\item[338] 2.34854777551305\n\\item[342] 0.870247642431793\n\\item[343] 1.679075916524\n\\item[346] 17.1156762308225\n\\item[349] 2.14349581269994\n\\item[350] 1.93968900505165\n\\item[352] 7.54995331513884\n\\item[355] 0.00657280742993072\n\\item[357] 0.612155260504468\n\\end{description*}\n",
            "text/markdown": "2\n:   9.469867637930444\n:   19.05032250611675\n:   13.56509344181296\n:   27.6768180639117\n:   7.534265141535110\n:   0.77438377740426811\n:   -0.057603629146286812\n:   12.505307482545513\n:   3.9818395404278514\n:   5.3684555786601918\n:   1.7828559385606419\n:   2.1141250967840721\n:   5.2092385563499323\n:   0.67656106775066925\n:   1.1049846222687828\n:   21.243885198950931\n:   13.143730205787733\n:   17.473719510251742\n:   4.2640092613443643\n:   10.652915149081855\n:   11.054638826761757\n:   10.07990007194560\n:   18.999942224066962\n:   9.9982452091451763\n:   5.0036560915433466\n:   -0.38657787338113274\n:   -0.32839707039554681\n:   3.1605211188814289\n:   5.7113139270842991\n:   8.8772372425139295\n:   2.5715439228419197\n:   0.949084328454705104\n:   0.599261016573434112\n:   3.01065569994533113\n:   1.00617113769711116\n:   1.15104467009334124\n:   -0.299835831084803126\n:   -0.101896607315887133\n:   -0.291442429921245136\n:   2.01272199243461140\n:   8.79685847312134142\n:   1.97474646169253143\n:   0.799142073585961147\n:   0.135327851672831150\n:   1.03903901978495153\n:   0.0797690066412251154\n:   0.359690914222697155\n:   0.571065842603557165\n:   -0.57808988023228168\n:   0.0926746140655785170\n:   -0.189656031810701173\n:   2.65867006805923178\n:   0.864964523217541182\n:   1.13712857276701186\n:   3.06578328647773188\n:   2.2985727536285191\n:   0.0307975891896044192\n:   6.66472839528309194\n:   0.130869720869329195\n:   -0.0754802172622012198\n:   1.47221758111967199\n:   4.86235531783392206\n:   -0.221363906825584207\n:   2.25545325289415215\n:   2.74138814422259217\n:   0.662197565378664218\n:   0.714190259967371221\n:   3.56996384932538227\n:   0.458194045119587229\n:   -0.361577500332872230\n:   2.67613165671538234\n:   0.221869914455476235\n:   0.145156789847371244\n:   -0.369650029923979247\n:   0.30293503274163252\n:   -0.14907158364398253\n:   0.870957357416694254\n:   5.64801680252942261\n:   15.6577949357037262\n:   8.07139075565304264\n:   24.7987256883293269\n:   0.26331461048164273\n:   0.255937567890385278\n:   1.2910552725512280\n:   6.26707908006016281\n:   10.473560649894283\n:   0.262935412215049285\n:   0.93092937183553286\n:   27.9898669382315289\n:   33.0270939431018290\n:   17.0538077486596292\n:   -0.161188397741313294\n:   -0.472470389426069296\n:   -0.100471237894807297\n:   -0.184383861145289303\n:   0.589485507619201305\n:   1.70455452976141318\n:   28.8455046457732325\n:   0.31486595316138335\n:   2.68222847007881336\n:   1.05494495955359338\n:   2.34854777551305342\n:   0.870247642431793343\n:   1.679075916524346\n:   17.1156762308225349\n:   2.14349581269994350\n:   1.93968900505165352\n:   7.54995331513884355\n:   0.00657280742993072357\n:   0.612155260504468\n\n",
            "text/html": "<dl class=dl-horizontal>\n\t<dt>2</dt>\n\t\t<dd>9.46986763793044</dd>\n\t<dt>4</dt>\n\t\t<dd>19.0503225061167</dd>\n\t<dt>5</dt>\n\t\t<dd>13.5650934418129</dd>\n\t<dt>6</dt>\n\t\t<dd>27.676818063911</dd>\n\t<dt>7</dt>\n\t\t<dd>7.5342651415351</dd>\n\t<dt>10</dt>\n\t\t<dd>0.774383777404268</dd>\n\t<dt>11</dt>\n\t\t<dd>-0.0576036291462868</dd>\n\t<dt>12</dt>\n\t\t<dd>12.5053074825455</dd>\n\t<dt>13</dt>\n\t\t<dd>3.98183954042785</dd>\n\t<dt>14</dt>\n\t\t<dd>5.36845557866019</dd>\n\t<dt>18</dt>\n\t\t<dd>1.78285593856064</dd>\n\t<dt>19</dt>\n\t\t<dd>2.11412509678407</dd>\n\t<dt>21</dt>\n\t\t<dd>5.20923855634993</dd>\n\t<dt>23</dt>\n\t\t<dd>0.676561067750669</dd>\n\t<dt>25</dt>\n\t\t<dd>1.10498462226878</dd>\n\t<dt>28</dt>\n\t\t<dd>21.2438851989509</dd>\n\t<dt>31</dt>\n\t\t<dd>13.1437302057877</dd>\n\t<dt>33</dt>\n\t\t<dd>17.4737195102517</dd>\n\t<dt>42</dt>\n\t\t<dd>4.26400926134436</dd>\n\t<dt>43</dt>\n\t\t<dd>10.6529151490818</dd>\n\t<dt>55</dt>\n\t\t<dd>11.0546388267617</dd>\n\t<dt>57</dt>\n\t\t<dd>10.079900071945</dd>\n\t<dt>60</dt>\n\t\t<dd>18.9999422240669</dd>\n\t<dt>62</dt>\n\t\t<dd>9.99824520914517</dd>\n\t<dt>63</dt>\n\t\t<dd>5.00365609154334</dd>\n\t<dt>66</dt>\n\t\t<dd>-0.386577873381132</dd>\n\t<dt>74</dt>\n\t\t<dd>-0.328397070395546</dd>\n\t<dt>81</dt>\n\t\t<dd>3.16052111888142</dd>\n\t<dt>89</dt>\n\t\t<dd>5.71131392708429</dd>\n\t<dt>91</dt>\n\t\t<dd>8.87723724251392</dd>\n\t<dt>95</dt>\n\t\t<dd>2.57154392284191</dd>\n\t<dt>97</dt>\n\t\t<dd>0.949084328454705</dd>\n\t<dt>104</dt>\n\t\t<dd>0.599261016573434</dd>\n\t<dt>112</dt>\n\t\t<dd>3.01065569994533</dd>\n\t<dt>113</dt>\n\t\t<dd>1.00617113769711</dd>\n\t<dt>116</dt>\n\t\t<dd>1.15104467009334</dd>\n\t<dt>124</dt>\n\t\t<dd>-0.299835831084803</dd>\n\t<dt>126</dt>\n\t\t<dd>-0.101896607315887</dd>\n\t<dt>133</dt>\n\t\t<dd>-0.291442429921245</dd>\n\t<dt>136</dt>\n\t\t<dd>2.01272199243461</dd>\n\t<dt>140</dt>\n\t\t<dd>8.79685847312134</dd>\n\t<dt>142</dt>\n\t\t<dd>1.97474646169253</dd>\n\t<dt>143</dt>\n\t\t<dd>0.799142073585961</dd>\n\t<dt>147</dt>\n\t\t<dd>0.135327851672831</dd>\n\t<dt>150</dt>\n\t\t<dd>1.03903901978495</dd>\n\t<dt>153</dt>\n\t\t<dd>0.0797690066412251</dd>\n\t<dt>154</dt>\n\t\t<dd>0.359690914222697</dd>\n\t<dt>155</dt>\n\t\t<dd>0.571065842603557</dd>\n\t<dt>165</dt>\n\t\t<dd>-0.57808988023228</dd>\n\t<dt>168</dt>\n\t\t<dd>0.0926746140655785</dd>\n\t<dt>170</dt>\n\t\t<dd>-0.189656031810701</dd>\n\t<dt>173</dt>\n\t\t<dd>2.65867006805923</dd>\n\t<dt>178</dt>\n\t\t<dd>0.864964523217541</dd>\n\t<dt>182</dt>\n\t\t<dd>1.13712857276701</dd>\n\t<dt>186</dt>\n\t\t<dd>3.06578328647773</dd>\n\t<dt>188</dt>\n\t\t<dd>2.2985727536285</dd>\n\t<dt>191</dt>\n\t\t<dd>0.0307975891896044</dd>\n\t<dt>192</dt>\n\t\t<dd>6.66472839528309</dd>\n\t<dt>194</dt>\n\t\t<dd>0.130869720869329</dd>\n\t<dt>195</dt>\n\t\t<dd>-0.0754802172622012</dd>\n\t<dt>198</dt>\n\t\t<dd>1.47221758111967</dd>\n\t<dt>199</dt>\n\t\t<dd>4.86235531783392</dd>\n\t<dt>206</dt>\n\t\t<dd>-0.221363906825584</dd>\n\t<dt>207</dt>\n\t\t<dd>2.25545325289415</dd>\n\t<dt>215</dt>\n\t\t<dd>2.74138814422259</dd>\n\t<dt>217</dt>\n\t\t<dd>0.662197565378664</dd>\n\t<dt>218</dt>\n\t\t<dd>0.714190259967371</dd>\n\t<dt>221</dt>\n\t\t<dd>3.56996384932538</dd>\n\t<dt>227</dt>\n\t\t<dd>0.458194045119587</dd>\n\t<dt>229</dt>\n\t\t<dd>-0.361577500332872</dd>\n\t<dt>230</dt>\n\t\t<dd>2.67613165671538</dd>\n\t<dt>234</dt>\n\t\t<dd>0.221869914455476</dd>\n\t<dt>235</dt>\n\t\t<dd>0.145156789847371</dd>\n\t<dt>244</dt>\n\t\t<dd>-0.369650029923979</dd>\n\t<dt>247</dt>\n\t\t<dd>0.30293503274163</dd>\n\t<dt>252</dt>\n\t\t<dd>-0.14907158364398</dd>\n\t<dt>253</dt>\n\t\t<dd>0.870957357416694</dd>\n\t<dt>254</dt>\n\t\t<dd>5.64801680252942</dd>\n\t<dt>261</dt>\n\t\t<dd>15.6577949357037</dd>\n\t<dt>262</dt>\n\t\t<dd>8.07139075565304</dd>\n\t<dt>264</dt>\n\t\t<dd>24.7987256883293</dd>\n\t<dt>269</dt>\n\t\t<dd>0.26331461048164</dd>\n\t<dt>273</dt>\n\t\t<dd>0.255937567890385</dd>\n\t<dt>278</dt>\n\t\t<dd>1.2910552725512</dd>\n\t<dt>280</dt>\n\t\t<dd>6.26707908006016</dd>\n\t<dt>281</dt>\n\t\t<dd>10.473560649894</dd>\n\t<dt>283</dt>\n\t\t<dd>0.262935412215049</dd>\n\t<dt>285</dt>\n\t\t<dd>0.93092937183553</dd>\n\t<dt>286</dt>\n\t\t<dd>27.9898669382315</dd>\n\t<dt>289</dt>\n\t\t<dd>33.0270939431018</dd>\n\t<dt>290</dt>\n\t\t<dd>17.0538077486596</dd>\n\t<dt>292</dt>\n\t\t<dd>-0.161188397741313</dd>\n\t<dt>294</dt>\n\t\t<dd>-0.472470389426069</dd>\n\t<dt>296</dt>\n\t\t<dd>-0.100471237894807</dd>\n\t<dt>297</dt>\n\t\t<dd>-0.184383861145289</dd>\n\t<dt>303</dt>\n\t\t<dd>0.589485507619201</dd>\n\t<dt>305</dt>\n\t\t<dd>1.70455452976141</dd>\n\t<dt>318</dt>\n\t\t<dd>28.8455046457732</dd>\n\t<dt>325</dt>\n\t\t<dd>0.31486595316138</dd>\n\t<dt>335</dt>\n\t\t<dd>2.68222847007881</dd>\n\t<dt>336</dt>\n\t\t<dd>1.05494495955359</dd>\n\t<dt>338</dt>\n\t\t<dd>2.34854777551305</dd>\n\t<dt>342</dt>\n\t\t<dd>0.870247642431793</dd>\n\t<dt>343</dt>\n\t\t<dd>1.679075916524</dd>\n\t<dt>346</dt>\n\t\t<dd>17.1156762308225</dd>\n\t<dt>349</dt>\n\t\t<dd>2.14349581269994</dd>\n\t<dt>350</dt>\n\t\t<dd>1.93968900505165</dd>\n\t<dt>352</dt>\n\t\t<dd>7.54995331513884</dd>\n\t<dt>355</dt>\n\t\t<dd>0.00657280742993072</dd>\n\t<dt>357</dt>\n\t\t<dd>0.612155260504468</dd>\n</dl>\n"
          },
          "metadata": {}
        }
      ]
    },
    {
      "metadata": {
        "trusted": true
      },
      "cell_type": "code",
      "source": "RMSE.lin.reg <- sqrt(mean((test.pred.lin-test$rain)^2))\nRMSE.lin.reg",
      "execution_count": 58,
      "outputs": [
        {
          "output_type": "display_data",
          "data": {
            "text/plain": "[1] 10.24922",
            "text/latex": "10.2492160204673",
            "text/markdown": "10.2492160204673",
            "text/html": "10.2492160204673"
          },
          "metadata": {}
        }
      ]
    },
    {
      "metadata": {
        "trusted": true
      },
      "cell_type": "code",
      "source": "MAE.lin.reg <- mean(abs(test.pred.lin-test$rain))\nMAE.lin.reg",
      "execution_count": 59,
      "outputs": [
        {
          "output_type": "display_data",
          "data": {
            "text/plain": "[1] 4.787961",
            "text/latex": "4.78796125735008",
            "text/markdown": "4.78796125735008",
            "text/html": "4.78796125735008"
          },
          "metadata": {}
        }
      ]
    },
    {
      "metadata": {
        "trusted": true
      },
      "cell_type": "markdown",
      "source": "## Conclusiones \n\n1) Tanto el RMSE como el MAE han disminuido significativamente en comparación con el modelo de referencia, lo que significa que este modelo lineal, a pesar de todos los problemas de linealidad y el hecho de que predice valores negativos de lluvia en algunos días, sigue siendo mucho mejor, en general, que nuestro mejor conjetura.\n\n2) Todas las variables son estadísticamente significativas (p <0.05), como se esperaba de la forma en que se construyó el modelo, y el predictor más significativo es la ráfaga de viento (p = 7.44e-12). \n\n\n## #EsPregunta\n\n### A) \nEl predictor mas significativo sera aquel con p menor. Porque #EsPregunta_A\n\n### B)\nEn este modelo: Multiple R-squared: 0.6554, Adjusted R-squared: 0.6228\nPuedo decir lo mismo: que el Multiple R-squared original no se ha aumentado agregando variables al modelo?"
    },
    {
      "metadata": {
        "trusted": true
      },
      "cell_type": "code",
      "source": "",
      "execution_count": null,
      "outputs": []
    }
  ],
  "metadata": {
    "kernelspec": {
      "name": "r",
      "display_name": "R",
      "language": "R"
    },
    "language_info": {
      "mimetype": "text/x-r-source",
      "name": "R",
      "pygments_lexer": "r",
      "version": "3.4.1",
      "file_extension": ".r",
      "codemirror_mode": "r"
    }
  },
  "nbformat": 4,
  "nbformat_minor": 2
}